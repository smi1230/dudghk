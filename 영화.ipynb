{
 "cells": [
  {
   "cell_type": "markdown",
   "metadata": {},
   "source": [
    "# Session Based Recommendation - 프로젝트 : Movielens 영화 SBR\n",
    "\n",
    "\n",
    "\n"
   ]
  },
  {
   "cell_type": "code",
   "execution_count": 1,
   "metadata": {},
   "outputs": [],
   "source": [
    "import os\n",
    "import datetime as tf\n",
    "from pathlib import Path\n",
    "\n",
    "import numpy as np\n",
    "import pandas as pd\n",
    "import warnings\n",
    "\n",
    "warnings.filterwarnings('ignore')"
   ]
  },
  {
   "cell_type": "code",
   "execution_count": 2,
   "metadata": {},
   "outputs": [
    {
     "data": {
      "text/html": [
       "<div>\n",
       "<style scoped>\n",
       "    .dataframe tbody tr th:only-of-type {\n",
       "        vertical-align: middle;\n",
       "    }\n",
       "\n",
       "    .dataframe tbody tr th {\n",
       "        vertical-align: top;\n",
       "    }\n",
       "\n",
       "    .dataframe thead th {\n",
       "        text-align: right;\n",
       "    }\n",
       "</style>\n",
       "<table border=\"1\" class=\"dataframe\">\n",
       "  <thead>\n",
       "    <tr style=\"text-align: right;\">\n",
       "      <th></th>\n",
       "      <th>UserId</th>\n",
       "      <th>ItemId</th>\n",
       "      <th>Rating</th>\n",
       "      <th>Time</th>\n",
       "    </tr>\n",
       "  </thead>\n",
       "  <tbody>\n",
       "    <tr>\n",
       "      <th>31</th>\n",
       "      <td>1</td>\n",
       "      <td>3186</td>\n",
       "      <td>4</td>\n",
       "      <td>978300019</td>\n",
       "    </tr>\n",
       "    <tr>\n",
       "      <th>22</th>\n",
       "      <td>1</td>\n",
       "      <td>1270</td>\n",
       "      <td>5</td>\n",
       "      <td>978300055</td>\n",
       "    </tr>\n",
       "    <tr>\n",
       "      <th>27</th>\n",
       "      <td>1</td>\n",
       "      <td>1721</td>\n",
       "      <td>4</td>\n",
       "      <td>978300055</td>\n",
       "    </tr>\n",
       "    <tr>\n",
       "      <th>37</th>\n",
       "      <td>1</td>\n",
       "      <td>1022</td>\n",
       "      <td>5</td>\n",
       "      <td>978300055</td>\n",
       "    </tr>\n",
       "    <tr>\n",
       "      <th>24</th>\n",
       "      <td>1</td>\n",
       "      <td>2340</td>\n",
       "      <td>3</td>\n",
       "      <td>978300103</td>\n",
       "    </tr>\n",
       "    <tr>\n",
       "      <th>...</th>\n",
       "      <td>...</td>\n",
       "      <td>...</td>\n",
       "      <td>...</td>\n",
       "      <td>...</td>\n",
       "    </tr>\n",
       "    <tr>\n",
       "      <th>1000019</th>\n",
       "      <td>6040</td>\n",
       "      <td>2917</td>\n",
       "      <td>4</td>\n",
       "      <td>997454429</td>\n",
       "    </tr>\n",
       "    <tr>\n",
       "      <th>999988</th>\n",
       "      <td>6040</td>\n",
       "      <td>1921</td>\n",
       "      <td>4</td>\n",
       "      <td>997454464</td>\n",
       "    </tr>\n",
       "    <tr>\n",
       "      <th>1000172</th>\n",
       "      <td>6040</td>\n",
       "      <td>1784</td>\n",
       "      <td>3</td>\n",
       "      <td>997454464</td>\n",
       "    </tr>\n",
       "    <tr>\n",
       "      <th>1000167</th>\n",
       "      <td>6040</td>\n",
       "      <td>161</td>\n",
       "      <td>3</td>\n",
       "      <td>997454486</td>\n",
       "    </tr>\n",
       "    <tr>\n",
       "      <th>1000042</th>\n",
       "      <td>6040</td>\n",
       "      <td>1221</td>\n",
       "      <td>4</td>\n",
       "      <td>998315055</td>\n",
       "    </tr>\n",
       "  </tbody>\n",
       "</table>\n",
       "<p>1000209 rows × 4 columns</p>\n",
       "</div>"
      ],
      "text/plain": [
       "         UserId  ItemId  Rating       Time\n",
       "31            1    3186       4  978300019\n",
       "22            1    1270       5  978300055\n",
       "27            1    1721       4  978300055\n",
       "37            1    1022       5  978300055\n",
       "24            1    2340       3  978300103\n",
       "...         ...     ...     ...        ...\n",
       "1000019    6040    2917       4  997454429\n",
       "999988     6040    1921       4  997454464\n",
       "1000172    6040    1784       3  997454464\n",
       "1000167    6040     161       3  997454486\n",
       "1000042    6040    1221       4  998315055\n",
       "\n",
       "[1000209 rows x 4 columns]"
      ]
     },
     "execution_count": 2,
     "metadata": {},
     "output_type": "execute_result"
    }
   ],
   "source": [
    "\n",
    "data_path = Path(os.getenv('HOME')+'/aiffel/yoochoose/data') \n",
    "train_path = data_path / 'ratings.dat'\n",
    "\n",
    "def load_data(data_path: Path, nrows=None):\n",
    "    data = pd.read_csv(data_path, sep='::', header=None, usecols=[0, 1, 2, 3], dtype={0: np.int32, 1: np.int32, 2: np.int32}, nrows=nrows)\n",
    "    data.columns = ['UserId', 'ItemId', 'Rating', 'Time']\n",
    "    return data\n",
    "\n",
    "data = load_data(train_path, None)\n",
    "data.sort_values(['UserId', 'Time'], inplace=True)  # data를 id와 시간 순서로 정렬해줍니다.\n",
    "data"
   ]
  },
  {
   "cell_type": "markdown",
   "metadata": {},
   "source": [
    "- 여기서 이전 실습내역과 가장 크게 다른 부분은 바로 SessionID 대신 UserID 항목이 들어갔다는 점입니다. 이 데이터셋은 명확한 1회 세션의 SessionID를 포함하지 않고 있습니다. 그래서 이번에는 UserID가 SessionID 역할을 해야 합니다.\n",
    "\n",
    "- Rating 정보가 포함되어 있습니다. 이전 실습내역에서는 이런 항목이 포함되어 있지 않았으므로, 무시하고 제외할 수 있습니다. 하지만, 직전에 봤던 영화가 맘에 들었는지 여부가 비슷한 영화를 더 고르게 하는 것과 상관이 있을 수도 있습니다. 아울러, Rating이 낮은 데이터를 어떻게 처리할지도 고민해야 합니다.\n",
    "\n",
    "- Time 항목에는 UTC time 가 포함되어, 1970년 1월 1일부터 경과된 초단위 시간이 기재되어 있습니다."
   ]
  },
  {
   "cell_type": "code",
   "execution_count": 3,
   "metadata": {},
   "outputs": [
    {
     "name": "stdout",
     "output_type": "stream",
     "text": [
      "(1000209, 4)\n"
     ]
    }
   ],
   "source": [
    "print(data.shape)"
   ]
  },
  {
   "cell_type": "code",
   "execution_count": 4,
   "metadata": {},
   "outputs": [
    {
     "data": {
      "text/html": [
       "<div>\n",
       "<style scoped>\n",
       "    .dataframe tbody tr th:only-of-type {\n",
       "        vertical-align: middle;\n",
       "    }\n",
       "\n",
       "    .dataframe tbody tr th {\n",
       "        vertical-align: top;\n",
       "    }\n",
       "\n",
       "    .dataframe thead th {\n",
       "        text-align: right;\n",
       "    }\n",
       "</style>\n",
       "<table border=\"1\" class=\"dataframe\">\n",
       "  <thead>\n",
       "    <tr style=\"text-align: right;\">\n",
       "      <th></th>\n",
       "      <th>UserId</th>\n",
       "      <th>ItemId</th>\n",
       "      <th>Rating</th>\n",
       "      <th>Time</th>\n",
       "    </tr>\n",
       "  </thead>\n",
       "  <tbody>\n",
       "    <tr>\n",
       "      <th>count</th>\n",
       "      <td>1.000209e+06</td>\n",
       "      <td>1.000209e+06</td>\n",
       "      <td>1.000209e+06</td>\n",
       "      <td>1.000209e+06</td>\n",
       "    </tr>\n",
       "    <tr>\n",
       "      <th>mean</th>\n",
       "      <td>3.024512e+03</td>\n",
       "      <td>1.865540e+03</td>\n",
       "      <td>3.581564e+00</td>\n",
       "      <td>9.722437e+08</td>\n",
       "    </tr>\n",
       "    <tr>\n",
       "      <th>std</th>\n",
       "      <td>1.728413e+03</td>\n",
       "      <td>1.096041e+03</td>\n",
       "      <td>1.117102e+00</td>\n",
       "      <td>1.215256e+07</td>\n",
       "    </tr>\n",
       "    <tr>\n",
       "      <th>min</th>\n",
       "      <td>1.000000e+00</td>\n",
       "      <td>1.000000e+00</td>\n",
       "      <td>1.000000e+00</td>\n",
       "      <td>9.567039e+08</td>\n",
       "    </tr>\n",
       "    <tr>\n",
       "      <th>25%</th>\n",
       "      <td>1.506000e+03</td>\n",
       "      <td>1.030000e+03</td>\n",
       "      <td>3.000000e+00</td>\n",
       "      <td>9.653026e+08</td>\n",
       "    </tr>\n",
       "    <tr>\n",
       "      <th>50%</th>\n",
       "      <td>3.070000e+03</td>\n",
       "      <td>1.835000e+03</td>\n",
       "      <td>4.000000e+00</td>\n",
       "      <td>9.730180e+08</td>\n",
       "    </tr>\n",
       "    <tr>\n",
       "      <th>75%</th>\n",
       "      <td>4.476000e+03</td>\n",
       "      <td>2.770000e+03</td>\n",
       "      <td>4.000000e+00</td>\n",
       "      <td>9.752209e+08</td>\n",
       "    </tr>\n",
       "    <tr>\n",
       "      <th>max</th>\n",
       "      <td>6.040000e+03</td>\n",
       "      <td>3.952000e+03</td>\n",
       "      <td>5.000000e+00</td>\n",
       "      <td>1.046455e+09</td>\n",
       "    </tr>\n",
       "  </tbody>\n",
       "</table>\n",
       "</div>"
      ],
      "text/plain": [
       "             UserId        ItemId        Rating          Time\n",
       "count  1.000209e+06  1.000209e+06  1.000209e+06  1.000209e+06\n",
       "mean   3.024512e+03  1.865540e+03  3.581564e+00  9.722437e+08\n",
       "std    1.728413e+03  1.096041e+03  1.117102e+00  1.215256e+07\n",
       "min    1.000000e+00  1.000000e+00  1.000000e+00  9.567039e+08\n",
       "25%    1.506000e+03  1.030000e+03  3.000000e+00  9.653026e+08\n",
       "50%    3.070000e+03  1.835000e+03  4.000000e+00  9.730180e+08\n",
       "75%    4.476000e+03  2.770000e+03  4.000000e+00  9.752209e+08\n",
       "max    6.040000e+03  3.952000e+03  5.000000e+00  1.046455e+09"
      ]
     },
     "execution_count": 4,
     "metadata": {},
     "output_type": "execute_result"
    }
   ],
   "source": [
    "data.describe()"
   ]
  },
  {
   "cell_type": "markdown",
   "metadata": {},
   "source": [
    "## Step 1. 데이터의 전처리\n",
    "\n",
    "위와 같이 간단히 구성해 본 데이터셋을 꼼꼼이 살펴보면서 항목별 기본분석, session length, session time, cleaning 등의 작업을 진행합니다.\n",
    "특히, 이 데이터셋에서는 Session이 아닌 UserID 단위로 데이터가 생성되어 있으므로, 이를 Session 단위로 어떻게 해석할지에 주의합니다."
   ]
  },
  {
   "cell_type": "code",
   "execution_count": 5,
   "metadata": {},
   "outputs": [
    {
     "data": {
      "text/plain": [
       "978300019"
      ]
     },
     "execution_count": 5,
     "metadata": {},
     "output_type": "execute_result"
    }
   ],
   "source": [
    "data.iloc[0]['Time']"
   ]
  },
  {
   "cell_type": "code",
   "execution_count": 6,
   "metadata": {},
   "outputs": [
    {
     "data": {
      "text/plain": [
       "UserId            1\n",
       "ItemId         1193\n",
       "Rating            5\n",
       "Time      978300760\n",
       "Name: 0, dtype: int64"
      ]
     },
     "execution_count": 6,
     "metadata": {},
     "output_type": "execute_result"
    }
   ],
   "source": [
    "data.loc[0]"
   ]
  },
  {
   "cell_type": "code",
   "execution_count": 7,
   "metadata": {},
   "outputs": [],
   "source": [
    "# 60분 = 60 * 60 = 3600초"
   ]
  },
  {
   "cell_type": "code",
   "execution_count": 8,
   "metadata": {},
   "outputs": [],
   "source": [
    "data = data.sort_values(['UserId', 'Time'])"
   ]
  },
  {
   "cell_type": "code",
   "execution_count": 9,
   "metadata": {},
   "outputs": [],
   "source": [
    "session_id = []\n",
    "\n",
    "prev_time = 0\n",
    "prev_user = 0\n",
    "curr_session = 0\n",
    "\n",
    "for one_data in data.iloc:\n",
    "    if one_data['Time'] - prev_time > 3600 or prev_user != one_data['UserId']:\n",
    "        curr_session += 1\n",
    "    prev_time = one_data['Time']\n",
    "    prev_user = one_data['UserId']\n",
    "    session_id.append(curr_session)\n",
    "    \n",
    "data['SessionId'] = session_id"
   ]
  },
  {
   "cell_type": "code",
   "execution_count": 10,
   "metadata": {},
   "outputs": [
    {
     "name": "stdout",
     "output_type": "stream",
     "text": [
      "(1000209, 5)\n"
     ]
    },
    {
     "data": {
      "text/plain": [
       "UserId         6040\n",
       "ItemId         3706\n",
       "Rating            5\n",
       "Time         458455\n",
       "SessionId     24413\n",
       "dtype: int64"
      ]
     },
     "execution_count": 10,
     "metadata": {},
     "output_type": "execute_result"
    }
   ],
   "source": [
    "print(data.shape)\n",
    "data.nunique()"
   ]
  },
  {
   "cell_type": "code",
   "execution_count": 11,
   "metadata": {},
   "outputs": [],
   "source": [
    "data['DateTime'] = pd.to_datetime(data['Time'], unit='s')"
   ]
  },
  {
   "cell_type": "code",
   "execution_count": 12,
   "metadata": {},
   "outputs": [
    {
     "name": "stdout",
     "output_type": "stream",
     "text": [
      "     UserId  ItemId  Rating       Time  SessionId            DateTime\n",
      "32        1    1566       4  978824330          2 2001-01-06 23:38:50\n",
      "34        1    1907       4  978824330          2 2001-01-06 23:38:50\n",
      "25        1      48       5  978824351          2 2001-01-06 23:39:11\n",
      "130       2    1198       4  978298124          3 2000-12-31 21:28:44\n",
      "64        2    1210       4  978298151          3 2000-12-31 21:29:11\n",
      "71        2    1217       3  978298151          3 2000-12-31 21:29:11\n",
      "134       2    2717       3  978298196          3 2000-12-31 21:29:56\n",
      "88        2    1293       5  978298261          3 2000-12-31 21:31:01\n",
      "170       2    2943       4  978298372          3 2000-12-31 21:32:52\n",
      "106       2    1225       5  978298391          3 2000-12-31 21:33:11\n",
      "120       2    1193       5  978298413          3 2000-12-31 21:33:33\n",
      "172       2     318       5  978298413          3 2000-12-31 21:33:33\n",
      "70        2    3030       4  978298434          3 2000-12-31 21:33:54\n",
      "105       2    2858       4  978298434          3 2000-12-31 21:33:54\n",
      "67        2    1213       2  978298458          3 2000-12-31 21:34:18\n",
      "102       2    1945       5  978298458          3 2000-12-31 21:34:18\n",
      "173       2    1207       4  978298478          3 2000-12-31 21:34:38\n",
      "131       2     593       5  978298517          3 2000-12-31 21:35:17\n",
      "163       2    3095       4  978298517          3 2000-12-31 21:35:17\n",
      "63        2    3468       5  978298542          3 2000-12-31 21:35:42\n"
     ]
    }
   ],
   "source": [
    "print(data[50:70])"
   ]
  },
  {
   "cell_type": "code",
   "execution_count": 13,
   "metadata": {},
   "outputs": [
    {
     "data": {
      "text/plain": [
       "SessionId\n",
       "1         40\n",
       "2         13\n",
       "3        129\n",
       "4         51\n",
       "5         21\n",
       "        ... \n",
       "24409      7\n",
       "24410     14\n",
       "24411      1\n",
       "24412     21\n",
       "24413      1\n",
       "Length: 24413, dtype: int64"
      ]
     },
     "execution_count": 13,
     "metadata": {},
     "output_type": "execute_result"
    }
   ],
   "source": [
    "session_length = data.groupby('SessionId').size()\n",
    "session_length"
   ]
  },
  {
   "cell_type": "code",
   "execution_count": 14,
   "metadata": {},
   "outputs": [
    {
     "data": {
      "text/plain": [
       "(6.0, 40.97034366935649)"
      ]
     },
     "execution_count": 14,
     "metadata": {},
     "output_type": "execute_result"
    }
   ],
   "source": [
    "session_length.median(), session_length.mean()"
   ]
  },
  {
   "cell_type": "code",
   "execution_count": 15,
   "metadata": {},
   "outputs": [
    {
     "data": {
      "text/plain": [
       "(1, 1290)"
      ]
     },
     "execution_count": 15,
     "metadata": {},
     "output_type": "execute_result"
    }
   ],
   "source": [
    "session_length.min(), session_length.max()"
   ]
  },
  {
   "cell_type": "code",
   "execution_count": 16,
   "metadata": {},
   "outputs": [
    {
     "data": {
      "text/plain": [
       "770.1760000000068"
      ]
     },
     "execution_count": 16,
     "metadata": {},
     "output_type": "execute_result"
    }
   ],
   "source": [
    "session_length.quantile(0.999)"
   ]
  },
  {
   "cell_type": "code",
   "execution_count": 17,
   "metadata": {},
   "outputs": [],
   "source": [
    "length_count = session_length.groupby(session_length).size()\n",
    "length_percent_cumsum = length_count.cumsum() / length_count.sum()\n",
    "length_percent_cumsum_999 = length_percent_cumsum[length_percent_cumsum < 0.999]"
   ]
  },
  {
   "cell_type": "code",
   "execution_count": 18,
   "metadata": {},
   "outputs": [
    {
     "data": {
      "image/png": "[encoded data removed]",
      "text/plain": [
       "<Figure size 1440x720 with 1 Axes>"
      ]
     },
     "metadata": {
      "needs_background": "light"
     },
     "output_type": "display_data"
    }
   ],
   "source": [
    "import matplotlib.pyplot as plt\n",
    "\n",
    "plt.figure(figsize=(20, 10))\n",
    "plt.bar(x=length_percent_cumsum_999.index,\n",
    "        height=length_percent_cumsum_999, color='red')\n",
    "plt.xticks(length_percent_cumsum_999.index)\n",
    "plt.yticks(np.arange(0, 1.01, 0.05))\n",
    "plt.title('Cumsum Percentage Until 0.999', size=20)\n",
    "plt.show()"
   ]
  },
  {
   "cell_type": "code",
   "execution_count": 19,
   "metadata": {},
   "outputs": [
    {
     "name": "stdout",
     "output_type": "stream",
     "text": [
      "2000-04-25 23:05:32\n",
      "2003-02-28 17:49:50\n"
     ]
    }
   ],
   "source": [
    "oldest = data['DateTime'].min()\n",
    "latest = data['DateTime'].max()\n",
    "print(oldest)\n",
    "print(latest)"
   ]
  },
  {
   "cell_type": "markdown",
   "metadata": {},
   "source": [
    "데이터는 3년간의 정보가 들어있습니다. 최근 2년의 데이터만을 사용해볼까요?"
   ]
  },
  {
   "cell_type": "code",
   "execution_count": 20,
   "metadata": {},
   "outputs": [
    {
     "data": {
      "text/html": [
       "<div>\n",
       "<style scoped>\n",
       "    .dataframe tbody tr th:only-of-type {\n",
       "        vertical-align: middle;\n",
       "    }\n",
       "\n",
       "    .dataframe tbody tr th {\n",
       "        vertical-align: top;\n",
       "    }\n",
       "\n",
       "    .dataframe thead th {\n",
       "        text-align: right;\n",
       "    }\n",
       "</style>\n",
       "<table border=\"1\" class=\"dataframe\">\n",
       "  <thead>\n",
       "    <tr style=\"text-align: right;\">\n",
       "      <th></th>\n",
       "      <th>UserId</th>\n",
       "      <th>ItemId</th>\n",
       "      <th>Rating</th>\n",
       "      <th>Time</th>\n",
       "      <th>SessionId</th>\n",
       "      <th>DateTime</th>\n",
       "    </tr>\n",
       "  </thead>\n",
       "  <tbody>\n",
       "    <tr>\n",
       "      <th>2327</th>\n",
       "      <td>19</td>\n",
       "      <td>318</td>\n",
       "      <td>4</td>\n",
       "      <td>994556598</td>\n",
       "      <td>43</td>\n",
       "      <td>2001-07-08 01:43:18</td>\n",
       "    </tr>\n",
       "    <tr>\n",
       "      <th>2492</th>\n",
       "      <td>19</td>\n",
       "      <td>1234</td>\n",
       "      <td>5</td>\n",
       "      <td>994556636</td>\n",
       "      <td>43</td>\n",
       "      <td>2001-07-08 01:43:56</td>\n",
       "    </tr>\n",
       "    <tr>\n",
       "      <th>2503</th>\n",
       "      <td>20</td>\n",
       "      <td>1694</td>\n",
       "      <td>3</td>\n",
       "      <td>1009669071</td>\n",
       "      <td>45</td>\n",
       "      <td>2001-12-29 23:37:51</td>\n",
       "    </tr>\n",
       "    <tr>\n",
       "      <th>2512</th>\n",
       "      <td>20</td>\n",
       "      <td>1468</td>\n",
       "      <td>3</td>\n",
       "      <td>1009669071</td>\n",
       "      <td>45</td>\n",
       "      <td>2001-12-29 23:37:51</td>\n",
       "    </tr>\n",
       "    <tr>\n",
       "      <th>2513</th>\n",
       "      <td>20</td>\n",
       "      <td>3717</td>\n",
       "      <td>2</td>\n",
       "      <td>1009669071</td>\n",
       "      <td>45</td>\n",
       "      <td>2001-12-29 23:37:51</td>\n",
       "    </tr>\n",
       "    <tr>\n",
       "      <th>...</th>\n",
       "      <td>...</td>\n",
       "      <td>...</td>\n",
       "      <td>...</td>\n",
       "      <td>...</td>\n",
       "      <td>...</td>\n",
       "      <td>...</td>\n",
       "    </tr>\n",
       "    <tr>\n",
       "      <th>1000019</th>\n",
       "      <td>6040</td>\n",
       "      <td>2917</td>\n",
       "      <td>4</td>\n",
       "      <td>997454429</td>\n",
       "      <td>24412</td>\n",
       "      <td>2001-08-10 14:40:29</td>\n",
       "    </tr>\n",
       "    <tr>\n",
       "      <th>999988</th>\n",
       "      <td>6040</td>\n",
       "      <td>1921</td>\n",
       "      <td>4</td>\n",
       "      <td>997454464</td>\n",
       "      <td>24412</td>\n",
       "      <td>2001-08-10 14:41:04</td>\n",
       "    </tr>\n",
       "    <tr>\n",
       "      <th>1000172</th>\n",
       "      <td>6040</td>\n",
       "      <td>1784</td>\n",
       "      <td>3</td>\n",
       "      <td>997454464</td>\n",
       "      <td>24412</td>\n",
       "      <td>2001-08-10 14:41:04</td>\n",
       "    </tr>\n",
       "    <tr>\n",
       "      <th>1000167</th>\n",
       "      <td>6040</td>\n",
       "      <td>161</td>\n",
       "      <td>3</td>\n",
       "      <td>997454486</td>\n",
       "      <td>24412</td>\n",
       "      <td>2001-08-10 14:41:26</td>\n",
       "    </tr>\n",
       "    <tr>\n",
       "      <th>1000042</th>\n",
       "      <td>6040</td>\n",
       "      <td>1221</td>\n",
       "      <td>4</td>\n",
       "      <td>998315055</td>\n",
       "      <td>24413</td>\n",
       "      <td>2001-08-20 13:44:15</td>\n",
       "    </tr>\n",
       "  </tbody>\n",
       "</table>\n",
       "<p>69349 rows × 6 columns</p>\n",
       "</div>"
      ],
      "text/plain": [
       "         UserId  ItemId  Rating        Time  SessionId            DateTime\n",
       "2327         19     318       4   994556598         43 2001-07-08 01:43:18\n",
       "2492         19    1234       5   994556636         43 2001-07-08 01:43:56\n",
       "2503         20    1694       3  1009669071         45 2001-12-29 23:37:51\n",
       "2512         20    1468       3  1009669071         45 2001-12-29 23:37:51\n",
       "2513         20    3717       2  1009669071         45 2001-12-29 23:37:51\n",
       "...         ...     ...     ...         ...        ...                 ...\n",
       "1000019    6040    2917       4   997454429      24412 2001-08-10 14:40:29\n",
       "999988     6040    1921       4   997454464      24412 2001-08-10 14:41:04\n",
       "1000172    6040    1784       3   997454464      24412 2001-08-10 14:41:04\n",
       "1000167    6040     161       3   997454486      24412 2001-08-10 14:41:26\n",
       "1000042    6040    1221       4   998315055      24413 2001-08-20 13:44:15\n",
       "\n",
       "[69349 rows x 6 columns]"
      ]
     },
     "execution_count": 20,
     "metadata": {},
     "output_type": "execute_result"
    }
   ],
   "source": [
    "import datetime\n",
    "month_ago = latest - datetime.timedelta(730)\n",
    "new_data = data[data['DateTime'] > month_ago]\n",
    "new_data"
   ]
  },
  {
   "cell_type": "code",
   "execution_count": 21,
   "metadata": {},
   "outputs": [],
   "source": [
    "# short_session을 제거한 다음 unpopular item을 제거하면 다시 길이가 1인 session이 생길 수 있습니다.\n",
    "# 이를 위해 반복문을 통해 지속적으로 제거 합니다.\n",
    "def cleanse_recursive(data: pd.DataFrame, shortest, least_click) -> pd.DataFrame:\n",
    "    while True:\n",
    "        before_len = len(data)\n",
    "        data = cleanse_short_session(data, shortest)\n",
    "        #data = cleanse_unpopular_item(data, least_click)\n",
    "        after_len = len(data)\n",
    "        if before_len == after_len:\n",
    "            break\n",
    "    return data\n",
    "\n",
    "\n",
    "def cleanse_short_session(data: pd.DataFrame, shortest):\n",
    "    session_len = data.groupby('SessionId').size()\n",
    "    session_use = session_len[session_len >= shortest].index\n",
    "    data = data[data['SessionId'].isin(session_use)]\n",
    "    return data\n",
    "\n",
    "\n",
    "def cleanse_unpopular_item(data: pd.DataFrame, least_click):\n",
    "    item_popular = data.groupby('ItemId').size()\n",
    "    item_use = item_popular[item_popular >= least_click].index\n",
    "    data = data[data['ItemId'].isin(item_use)]\n",
    "    return data"
   ]
  },
  {
   "cell_type": "code",
   "execution_count": 22,
   "metadata": {},
   "outputs": [
    {
     "data": {
      "text/plain": [
       "(65231, 6)"
      ]
     },
     "execution_count": 22,
     "metadata": {},
     "output_type": "execute_result"
    }
   ],
   "source": [
    "new_data = cleanse_recursive(new_data, shortest=2, least_click=5)\n",
    "new_data.shape"
   ]
  },
  {
   "cell_type": "code",
   "execution_count": 23,
   "metadata": {},
   "outputs": [],
   "source": [
    "train_ago = latest - datetime.timedelta(90)\n",
    "train = new_data[new_data['DateTime'] < train_ago]\n",
    "\n",
    "test_ago = latest - datetime.timedelta(10)\n",
    "test = new_data[new_data['DateTime'] > test_ago]"
   ]
  },
  {
   "cell_type": "code",
   "execution_count": 24,
   "metadata": {},
   "outputs": [],
   "source": [
    "valid_condition = (new_data['DateTime'] > train_ago) & (new_data['DateTime'] < test_ago)\n",
    "valid = new_data[valid_condition]"
   ]
  },
  {
   "cell_type": "code",
   "execution_count": 25,
   "metadata": {},
   "outputs": [
    {
     "name": "stdout",
     "output_type": "stream",
     "text": [
      "(60946, 6)\n",
      "Sessions :  4215\n",
      "Items :  3271\n",
      "First Time :  2001-02-28 19:06:53\n",
      "Last Time :  2002-11-30 13:47:32\n"
     ]
    }
   ],
   "source": [
    "print(train.shape)\n",
    "print(\"Sessions : \", train['SessionId'].nunique())\n",
    "print(\"Items : \", train['ItemId'].nunique())\n",
    "print(\"First Time : \", train['DateTime'].min())\n",
    "print(\"Last Time : \", train['DateTime'].max())"
   ]
  },
  {
   "cell_type": "code",
   "execution_count": 26,
   "metadata": {},
   "outputs": [
    {
     "name": "stdout",
     "output_type": "stream",
     "text": [
      "(3812, 6)\n",
      "Sessions :  299\n",
      "Items :  1633\n",
      "First Time :  2002-11-30 21:53:04\n",
      "Last Time :  2003-02-18 17:36:46\n"
     ]
    }
   ],
   "source": [
    "print(valid.shape)\n",
    "print(\"Sessions : \", valid['SessionId'].nunique())\n",
    "print(\"Items : \", valid['ItemId'].nunique())\n",
    "print(\"First Time : \", valid['DateTime'].min())\n",
    "print(\"Last Time : \", valid['DateTime'].max())"
   ]
  },
  {
   "cell_type": "code",
   "execution_count": 27,
   "metadata": {},
   "outputs": [
    {
     "name": "stdout",
     "output_type": "stream",
     "text": [
      "(473, 6)\n",
      "Sessions :  42\n",
      "Items :  417\n",
      "First Time :  2003-02-18 19:10:24\n",
      "Last Time :  2003-02-28 17:49:50\n"
     ]
    }
   ],
   "source": [
    "print(test.shape)\n",
    "print(\"Sessions : \", test['SessionId'].nunique())\n",
    "print(\"Items : \", test['ItemId'].nunique())\n",
    "print(\"First Time : \", test['DateTime'].min())\n",
    "print(\"Last Time : \", test['DateTime'].max())"
   ]
  },
  {
   "cell_type": "code",
   "execution_count": 28,
   "metadata": {},
   "outputs": [],
   "source": [
    "# train set에 없는 아이템이 val, test기간에 생길 수 있으므로 train data를 기준으로 인덱싱합니다.\n",
    "id2idx = {item_id : index for index, item_id in enumerate(train['ItemId'].unique())}\n",
    "\"\"\"\n",
    "for index, item_id in enumerate(valid['ItemId'].unique()):\n",
    "    id2idx[item_id] = index\n",
    "    \n",
    "for index, item_id in enumerate(test['ItemId'].unique()):\n",
    "    id2idx[item_id] = index\n",
    "\"\"\"\n",
    "def indexing(df, id2idx):\n",
    "    df['item_idx'] = df['ItemId'].map(lambda x: id2idx.get(x, -1))  # id2idx에 없는 아이템은 모르는 값(-1) 처리 해줍니다.\n",
    "    return df"
   ]
  },
  {
   "cell_type": "code",
   "execution_count": 29,
   "metadata": {},
   "outputs": [],
   "source": [
    "train = indexing(train, id2idx)\n",
    "valid = indexing(valid, id2idx)\n",
    "test = indexing(test, id2idx)"
   ]
  },
  {
   "cell_type": "code",
   "execution_count": 30,
   "metadata": {},
   "outputs": [
    {
     "data": {
      "text/html": [
       "<div>\n",
       "<style scoped>\n",
       "    .dataframe tbody tr th:only-of-type {\n",
       "        vertical-align: middle;\n",
       "    }\n",
       "\n",
       "    .dataframe tbody tr th {\n",
       "        vertical-align: top;\n",
       "    }\n",
       "\n",
       "    .dataframe thead th {\n",
       "        text-align: right;\n",
       "    }\n",
       "</style>\n",
       "<table border=\"1\" class=\"dataframe\">\n",
       "  <thead>\n",
       "    <tr style=\"text-align: right;\">\n",
       "      <th></th>\n",
       "      <th>UserId</th>\n",
       "      <th>ItemId</th>\n",
       "      <th>Rating</th>\n",
       "      <th>Time</th>\n",
       "      <th>SessionId</th>\n",
       "      <th>DateTime</th>\n",
       "      <th>item_idx</th>\n",
       "    </tr>\n",
       "  </thead>\n",
       "  <tbody>\n",
       "    <tr>\n",
       "      <th>2327</th>\n",
       "      <td>19</td>\n",
       "      <td>318</td>\n",
       "      <td>4</td>\n",
       "      <td>994556598</td>\n",
       "      <td>43</td>\n",
       "      <td>2001-07-08 01:43:18</td>\n",
       "      <td>0</td>\n",
       "    </tr>\n",
       "    <tr>\n",
       "      <th>2492</th>\n",
       "      <td>19</td>\n",
       "      <td>1234</td>\n",
       "      <td>5</td>\n",
       "      <td>994556636</td>\n",
       "      <td>43</td>\n",
       "      <td>2001-07-08 01:43:56</td>\n",
       "      <td>1</td>\n",
       "    </tr>\n",
       "    <tr>\n",
       "      <th>2503</th>\n",
       "      <td>20</td>\n",
       "      <td>1694</td>\n",
       "      <td>3</td>\n",
       "      <td>1009669071</td>\n",
       "      <td>45</td>\n",
       "      <td>2001-12-29 23:37:51</td>\n",
       "      <td>2</td>\n",
       "    </tr>\n",
       "    <tr>\n",
       "      <th>2512</th>\n",
       "      <td>20</td>\n",
       "      <td>1468</td>\n",
       "      <td>3</td>\n",
       "      <td>1009669071</td>\n",
       "      <td>45</td>\n",
       "      <td>2001-12-29 23:37:51</td>\n",
       "      <td>3</td>\n",
       "    </tr>\n",
       "    <tr>\n",
       "      <th>2513</th>\n",
       "      <td>20</td>\n",
       "      <td>3717</td>\n",
       "      <td>2</td>\n",
       "      <td>1009669071</td>\n",
       "      <td>45</td>\n",
       "      <td>2001-12-29 23:37:51</td>\n",
       "      <td>4</td>\n",
       "    </tr>\n",
       "    <tr>\n",
       "      <th>...</th>\n",
       "      <td>...</td>\n",
       "      <td>...</td>\n",
       "      <td>...</td>\n",
       "      <td>...</td>\n",
       "      <td>...</td>\n",
       "      <td>...</td>\n",
       "      <td>...</td>\n",
       "    </tr>\n",
       "    <tr>\n",
       "      <th>999923</th>\n",
       "      <td>6040</td>\n",
       "      <td>232</td>\n",
       "      <td>5</td>\n",
       "      <td>997454398</td>\n",
       "      <td>24412</td>\n",
       "      <td>2001-08-10 14:39:58</td>\n",
       "      <td>875</td>\n",
       "    </tr>\n",
       "    <tr>\n",
       "      <th>1000019</th>\n",
       "      <td>6040</td>\n",
       "      <td>2917</td>\n",
       "      <td>4</td>\n",
       "      <td>997454429</td>\n",
       "      <td>24412</td>\n",
       "      <td>2001-08-10 14:40:29</td>\n",
       "      <td>1471</td>\n",
       "    </tr>\n",
       "    <tr>\n",
       "      <th>999988</th>\n",
       "      <td>6040</td>\n",
       "      <td>1921</td>\n",
       "      <td>4</td>\n",
       "      <td>997454464</td>\n",
       "      <td>24412</td>\n",
       "      <td>2001-08-10 14:41:04</td>\n",
       "      <td>811</td>\n",
       "    </tr>\n",
       "    <tr>\n",
       "      <th>1000172</th>\n",
       "      <td>6040</td>\n",
       "      <td>1784</td>\n",
       "      <td>3</td>\n",
       "      <td>997454464</td>\n",
       "      <td>24412</td>\n",
       "      <td>2001-08-10 14:41:04</td>\n",
       "      <td>357</td>\n",
       "    </tr>\n",
       "    <tr>\n",
       "      <th>1000167</th>\n",
       "      <td>6040</td>\n",
       "      <td>161</td>\n",
       "      <td>3</td>\n",
       "      <td>997454486</td>\n",
       "      <td>24412</td>\n",
       "      <td>2001-08-10 14:41:26</td>\n",
       "      <td>1457</td>\n",
       "    </tr>\n",
       "  </tbody>\n",
       "</table>\n",
       "<p>60946 rows × 7 columns</p>\n",
       "</div>"
      ],
      "text/plain": [
       "         UserId  ItemId  Rating        Time  SessionId            DateTime  \\\n",
       "2327         19     318       4   994556598         43 2001-07-08 01:43:18   \n",
       "2492         19    1234       5   994556636         43 2001-07-08 01:43:56   \n",
       "2503         20    1694       3  1009669071         45 2001-12-29 23:37:51   \n",
       "2512         20    1468       3  1009669071         45 2001-12-29 23:37:51   \n",
       "2513         20    3717       2  1009669071         45 2001-12-29 23:37:51   \n",
       "...         ...     ...     ...         ...        ...                 ...   \n",
       "999923     6040     232       5   997454398      24412 2001-08-10 14:39:58   \n",
       "1000019    6040    2917       4   997454429      24412 2001-08-10 14:40:29   \n",
       "999988     6040    1921       4   997454464      24412 2001-08-10 14:41:04   \n",
       "1000172    6040    1784       3   997454464      24412 2001-08-10 14:41:04   \n",
       "1000167    6040     161       3   997454486      24412 2001-08-10 14:41:26   \n",
       "\n",
       "         item_idx  \n",
       "2327            0  \n",
       "2492            1  \n",
       "2503            2  \n",
       "2512            3  \n",
       "2513            4  \n",
       "...           ...  \n",
       "999923        875  \n",
       "1000019      1471  \n",
       "999988        811  \n",
       "1000172       357  \n",
       "1000167      1457  \n",
       "\n",
       "[60946 rows x 7 columns]"
      ]
     },
     "execution_count": 30,
     "metadata": {},
     "output_type": "execute_result"
    }
   ],
   "source": [
    "train"
   ]
  },
  {
   "cell_type": "code",
   "execution_count": 31,
   "metadata": {},
   "outputs": [
    {
     "data": {
      "text/html": [
       "<div>\n",
       "<style scoped>\n",
       "    .dataframe tbody tr th:only-of-type {\n",
       "        vertical-align: middle;\n",
       "    }\n",
       "\n",
       "    .dataframe tbody tr th {\n",
       "        vertical-align: top;\n",
       "    }\n",
       "\n",
       "    .dataframe thead th {\n",
       "        text-align: right;\n",
       "    }\n",
       "</style>\n",
       "<table border=\"1\" class=\"dataframe\">\n",
       "  <thead>\n",
       "    <tr style=\"text-align: right;\">\n",
       "      <th></th>\n",
       "      <th>UserId</th>\n",
       "      <th>ItemId</th>\n",
       "      <th>Rating</th>\n",
       "      <th>Time</th>\n",
       "      <th>SessionId</th>\n",
       "      <th>DateTime</th>\n",
       "      <th>item_idx</th>\n",
       "    </tr>\n",
       "  </thead>\n",
       "  <tbody>\n",
       "    <tr>\n",
       "      <th>5200</th>\n",
       "      <td>36</td>\n",
       "      <td>2269</td>\n",
       "      <td>5</td>\n",
       "      <td>1040544350</td>\n",
       "      <td>86</td>\n",
       "      <td>2002-12-22 08:05:50</td>\n",
       "      <td>1829</td>\n",
       "    </tr>\n",
       "    <tr>\n",
       "      <th>5256</th>\n",
       "      <td>36</td>\n",
       "      <td>1701</td>\n",
       "      <td>4</td>\n",
       "      <td>1040544350</td>\n",
       "      <td>86</td>\n",
       "      <td>2002-12-22 08:05:50</td>\n",
       "      <td>1536</td>\n",
       "    </tr>\n",
       "    <tr>\n",
       "      <th>5184</th>\n",
       "      <td>36</td>\n",
       "      <td>2694</td>\n",
       "      <td>3</td>\n",
       "      <td>1040544494</td>\n",
       "      <td>86</td>\n",
       "      <td>2002-12-22 08:08:14</td>\n",
       "      <td>570</td>\n",
       "    </tr>\n",
       "    <tr>\n",
       "      <th>5364</th>\n",
       "      <td>36</td>\n",
       "      <td>3786</td>\n",
       "      <td>4</td>\n",
       "      <td>1040544521</td>\n",
       "      <td>86</td>\n",
       "      <td>2002-12-22 08:08:41</td>\n",
       "      <td>707</td>\n",
       "    </tr>\n",
       "    <tr>\n",
       "      <th>5262</th>\n",
       "      <td>36</td>\n",
       "      <td>2369</td>\n",
       "      <td>4</td>\n",
       "      <td>1040544564</td>\n",
       "      <td>86</td>\n",
       "      <td>2002-12-22 08:09:24</td>\n",
       "      <td>916</td>\n",
       "    </tr>\n",
       "    <tr>\n",
       "      <th>...</th>\n",
       "      <td>...</td>\n",
       "      <td>...</td>\n",
       "      <td>...</td>\n",
       "      <td>...</td>\n",
       "      <td>...</td>\n",
       "      <td>...</td>\n",
       "      <td>...</td>\n",
       "    </tr>\n",
       "    <tr>\n",
       "      <th>984167</th>\n",
       "      <td>5948</td>\n",
       "      <td>1283</td>\n",
       "      <td>5</td>\n",
       "      <td>1043068249</td>\n",
       "      <td>24102</td>\n",
       "      <td>2003-01-20 13:10:49</td>\n",
       "      <td>109</td>\n",
       "    </tr>\n",
       "    <tr>\n",
       "      <th>984206</th>\n",
       "      <td>5948</td>\n",
       "      <td>1304</td>\n",
       "      <td>5</td>\n",
       "      <td>1043068456</td>\n",
       "      <td>24102</td>\n",
       "      <td>2003-01-20 13:14:16</td>\n",
       "      <td>259</td>\n",
       "    </tr>\n",
       "    <tr>\n",
       "      <th>984173</th>\n",
       "      <td>5948</td>\n",
       "      <td>1288</td>\n",
       "      <td>4</td>\n",
       "      <td>1043068509</td>\n",
       "      <td>24102</td>\n",
       "      <td>2003-01-20 13:15:09</td>\n",
       "      <td>1016</td>\n",
       "    </tr>\n",
       "    <tr>\n",
       "      <th>983996</th>\n",
       "      <td>5948</td>\n",
       "      <td>3467</td>\n",
       "      <td>5</td>\n",
       "      <td>1043068562</td>\n",
       "      <td>24102</td>\n",
       "      <td>2003-01-20 13:16:02</td>\n",
       "      <td>1183</td>\n",
       "    </tr>\n",
       "    <tr>\n",
       "      <th>984079</th>\n",
       "      <td>5948</td>\n",
       "      <td>1938</td>\n",
       "      <td>5</td>\n",
       "      <td>1043068730</td>\n",
       "      <td>24102</td>\n",
       "      <td>2003-01-20 13:18:50</td>\n",
       "      <td>1217</td>\n",
       "    </tr>\n",
       "  </tbody>\n",
       "</table>\n",
       "<p>3812 rows × 7 columns</p>\n",
       "</div>"
      ],
      "text/plain": [
       "        UserId  ItemId  Rating        Time  SessionId            DateTime  \\\n",
       "5200        36    2269       5  1040544350         86 2002-12-22 08:05:50   \n",
       "5256        36    1701       4  1040544350         86 2002-12-22 08:05:50   \n",
       "5184        36    2694       3  1040544494         86 2002-12-22 08:08:14   \n",
       "5364        36    3786       4  1040544521         86 2002-12-22 08:08:41   \n",
       "5262        36    2369       4  1040544564         86 2002-12-22 08:09:24   \n",
       "...        ...     ...     ...         ...        ...                 ...   \n",
       "984167    5948    1283       5  1043068249      24102 2003-01-20 13:10:49   \n",
       "984206    5948    1304       5  1043068456      24102 2003-01-20 13:14:16   \n",
       "984173    5948    1288       4  1043068509      24102 2003-01-20 13:15:09   \n",
       "983996    5948    3467       5  1043068562      24102 2003-01-20 13:16:02   \n",
       "984079    5948    1938       5  1043068730      24102 2003-01-20 13:18:50   \n",
       "\n",
       "        item_idx  \n",
       "5200        1829  \n",
       "5256        1536  \n",
       "5184         570  \n",
       "5364         707  \n",
       "5262         916  \n",
       "...          ...  \n",
       "984167       109  \n",
       "984206       259  \n",
       "984173      1016  \n",
       "983996      1183  \n",
       "984079      1217  \n",
       "\n",
       "[3812 rows x 7 columns]"
      ]
     },
     "execution_count": 31,
     "metadata": {},
     "output_type": "execute_result"
    }
   ],
   "source": [
    "valid"
   ]
  },
  {
   "cell_type": "code",
   "execution_count": 32,
   "metadata": {},
   "outputs": [
    {
     "data": {
      "text/html": [
       "<div>\n",
       "<style scoped>\n",
       "    .dataframe tbody tr th:only-of-type {\n",
       "        vertical-align: middle;\n",
       "    }\n",
       "\n",
       "    .dataframe tbody tr th {\n",
       "        vertical-align: top;\n",
       "    }\n",
       "\n",
       "    .dataframe thead th {\n",
       "        text-align: right;\n",
       "    }\n",
       "</style>\n",
       "<table border=\"1\" class=\"dataframe\">\n",
       "  <thead>\n",
       "    <tr style=\"text-align: right;\">\n",
       "      <th></th>\n",
       "      <th>UserId</th>\n",
       "      <th>ItemId</th>\n",
       "      <th>Rating</th>\n",
       "      <th>Time</th>\n",
       "      <th>SessionId</th>\n",
       "      <th>DateTime</th>\n",
       "      <th>item_idx</th>\n",
       "    </tr>\n",
       "  </thead>\n",
       "  <tbody>\n",
       "    <tr>\n",
       "      <th>33889</th>\n",
       "      <td>229</td>\n",
       "      <td>3089</td>\n",
       "      <td>4</td>\n",
       "      <td>1046325739</td>\n",
       "      <td>1028</td>\n",
       "      <td>2003-02-27 06:02:19</td>\n",
       "      <td>1072</td>\n",
       "    </tr>\n",
       "    <tr>\n",
       "      <th>33994</th>\n",
       "      <td>229</td>\n",
       "      <td>2839</td>\n",
       "      <td>5</td>\n",
       "      <td>1046325855</td>\n",
       "      <td>1028</td>\n",
       "      <td>2003-02-27 06:04:15</td>\n",
       "      <td>3122</td>\n",
       "    </tr>\n",
       "    <tr>\n",
       "      <th>53023</th>\n",
       "      <td>349</td>\n",
       "      <td>163</td>\n",
       "      <td>3</td>\n",
       "      <td>1045946587</td>\n",
       "      <td>1588</td>\n",
       "      <td>2003-02-22 20:43:07</td>\n",
       "      <td>1281</td>\n",
       "    </tr>\n",
       "    <tr>\n",
       "      <th>53130</th>\n",
       "      <td>349</td>\n",
       "      <td>1228</td>\n",
       "      <td>4</td>\n",
       "      <td>1045946639</td>\n",
       "      <td>1588</td>\n",
       "      <td>2003-02-22 20:43:59</td>\n",
       "      <td>878</td>\n",
       "    </tr>\n",
       "    <tr>\n",
       "      <th>53120</th>\n",
       "      <td>349</td>\n",
       "      <td>548</td>\n",
       "      <td>2</td>\n",
       "      <td>1045946656</td>\n",
       "      <td>1588</td>\n",
       "      <td>2003-02-22 20:44:16</td>\n",
       "      <td>1801</td>\n",
       "    </tr>\n",
       "    <tr>\n",
       "      <th>...</th>\n",
       "      <td>...</td>\n",
       "      <td>...</td>\n",
       "      <td>...</td>\n",
       "      <td>...</td>\n",
       "      <td>...</td>\n",
       "      <td>...</td>\n",
       "      <td>...</td>\n",
       "    </tr>\n",
       "    <tr>\n",
       "      <th>984731</th>\n",
       "      <td>5950</td>\n",
       "      <td>3948</td>\n",
       "      <td>4</td>\n",
       "      <td>1046369637</td>\n",
       "      <td>24123</td>\n",
       "      <td>2003-02-27 18:13:57</td>\n",
       "      <td>470</td>\n",
       "    </tr>\n",
       "    <tr>\n",
       "      <th>984682</th>\n",
       "      <td>5950</td>\n",
       "      <td>3578</td>\n",
       "      <td>4</td>\n",
       "      <td>1046369670</td>\n",
       "      <td>24123</td>\n",
       "      <td>2003-02-27 18:14:30</td>\n",
       "      <td>285</td>\n",
       "    </tr>\n",
       "    <tr>\n",
       "      <th>984475</th>\n",
       "      <td>5950</td>\n",
       "      <td>3793</td>\n",
       "      <td>3</td>\n",
       "      <td>1046369710</td>\n",
       "      <td>24123</td>\n",
       "      <td>2003-02-27 18:15:10</td>\n",
       "      <td>284</td>\n",
       "    </tr>\n",
       "    <tr>\n",
       "      <th>984660</th>\n",
       "      <td>5950</td>\n",
       "      <td>3555</td>\n",
       "      <td>2</td>\n",
       "      <td>1046369737</td>\n",
       "      <td>24123</td>\n",
       "      <td>2003-02-27 18:15:37</td>\n",
       "      <td>197</td>\n",
       "    </tr>\n",
       "    <tr>\n",
       "      <th>984733</th>\n",
       "      <td>5950</td>\n",
       "      <td>1262</td>\n",
       "      <td>4</td>\n",
       "      <td>1046369858</td>\n",
       "      <td>24123</td>\n",
       "      <td>2003-02-27 18:17:38</td>\n",
       "      <td>680</td>\n",
       "    </tr>\n",
       "  </tbody>\n",
       "</table>\n",
       "<p>473 rows × 7 columns</p>\n",
       "</div>"
      ],
      "text/plain": [
       "        UserId  ItemId  Rating        Time  SessionId            DateTime  \\\n",
       "33889      229    3089       4  1046325739       1028 2003-02-27 06:02:19   \n",
       "33994      229    2839       5  1046325855       1028 2003-02-27 06:04:15   \n",
       "53023      349     163       3  1045946587       1588 2003-02-22 20:43:07   \n",
       "53130      349    1228       4  1045946639       1588 2003-02-22 20:43:59   \n",
       "53120      349     548       2  1045946656       1588 2003-02-22 20:44:16   \n",
       "...        ...     ...     ...         ...        ...                 ...   \n",
       "984731    5950    3948       4  1046369637      24123 2003-02-27 18:13:57   \n",
       "984682    5950    3578       4  1046369670      24123 2003-02-27 18:14:30   \n",
       "984475    5950    3793       3  1046369710      24123 2003-02-27 18:15:10   \n",
       "984660    5950    3555       2  1046369737      24123 2003-02-27 18:15:37   \n",
       "984733    5950    1262       4  1046369858      24123 2003-02-27 18:17:38   \n",
       "\n",
       "        item_idx  \n",
       "33889       1072  \n",
       "33994       3122  \n",
       "53023       1281  \n",
       "53130        878  \n",
       "53120       1801  \n",
       "...          ...  \n",
       "984731       470  \n",
       "984682       285  \n",
       "984475       284  \n",
       "984660       197  \n",
       "984733       680  \n",
       "\n",
       "[473 rows x 7 columns]"
      ]
     },
     "execution_count": 32,
     "metadata": {},
     "output_type": "execute_result"
    }
   ],
   "source": [
    "test"
   ]
  },
  {
   "cell_type": "code",
   "execution_count": 33,
   "metadata": {},
   "outputs": [],
   "source": [
    "save_path = data_path / 'processed2'\n",
    "save_path.mkdir(parents=True, exist_ok = True)\n",
    "\n",
    "train.to_pickle(save_path / 'train.pkl')\n",
    "valid.to_pickle(save_path / 'valid.pkl')\n",
    "test.to_pickle(save_path / 'test.pkl')"
   ]
  },
  {
   "cell_type": "markdown",
   "metadata": {},
   "source": [
    "## Step 2. 미니 배치의 구성\n",
    "\n",
    "실습코드 내역을 참고하여 데이터셋과 미니 배치를 구성해 봅시다. Session-Parallel Mini-Batch의 개념에 따라, 학습 속도의 저하가 최소화될 수 있도록 구성합니다."
   ]
  },
  {
   "cell_type": "code",
   "execution_count": 34,
   "metadata": {},
   "outputs": [],
   "source": [
    "class SessionDataset:\n",
    "    \"\"\"Credit to yhs-968/pyGRU4REC.\"\"\"\n",
    "\n",
    "    def __init__(self, data):\n",
    "        self.df = data\n",
    "        self.click_offsets = self.get_click_offsets()\n",
    "        self.session_idx = np.arange(self.df['SessionId'].nunique())  # indexing to SessionId\n",
    "\n",
    "    def get_click_offsets(self):\n",
    "        \"\"\"\n",
    "        Return the indexes of the first click of each session IDs,\n",
    "        \"\"\"\n",
    "        offsets = np.zeros(self.df['SessionId'].nunique() + 1, dtype=np.int32)\n",
    "        offsets[1:] = self.df.groupby('SessionId').size().cumsum()\n",
    "        return offsets"
   ]
  },
  {
   "cell_type": "code",
   "execution_count": 35,
   "metadata": {},
   "outputs": [
    {
     "data": {
      "text/html": [
       "<div>\n",
       "<style scoped>\n",
       "    .dataframe tbody tr th:only-of-type {\n",
       "        vertical-align: middle;\n",
       "    }\n",
       "\n",
       "    .dataframe tbody tr th {\n",
       "        vertical-align: top;\n",
       "    }\n",
       "\n",
       "    .dataframe thead th {\n",
       "        text-align: right;\n",
       "    }\n",
       "</style>\n",
       "<table border=\"1\" class=\"dataframe\">\n",
       "  <thead>\n",
       "    <tr style=\"text-align: right;\">\n",
       "      <th></th>\n",
       "      <th>UserId</th>\n",
       "      <th>ItemId</th>\n",
       "      <th>Rating</th>\n",
       "      <th>Time</th>\n",
       "      <th>SessionId</th>\n",
       "      <th>DateTime</th>\n",
       "      <th>item_idx</th>\n",
       "    </tr>\n",
       "  </thead>\n",
       "  <tbody>\n",
       "    <tr>\n",
       "      <th>2327</th>\n",
       "      <td>19</td>\n",
       "      <td>318</td>\n",
       "      <td>4</td>\n",
       "      <td>994556598</td>\n",
       "      <td>43</td>\n",
       "      <td>2001-07-08 01:43:18</td>\n",
       "      <td>0</td>\n",
       "    </tr>\n",
       "    <tr>\n",
       "      <th>2492</th>\n",
       "      <td>19</td>\n",
       "      <td>1234</td>\n",
       "      <td>5</td>\n",
       "      <td>994556636</td>\n",
       "      <td>43</td>\n",
       "      <td>2001-07-08 01:43:56</td>\n",
       "      <td>1</td>\n",
       "    </tr>\n",
       "    <tr>\n",
       "      <th>2503</th>\n",
       "      <td>20</td>\n",
       "      <td>1694</td>\n",
       "      <td>3</td>\n",
       "      <td>1009669071</td>\n",
       "      <td>45</td>\n",
       "      <td>2001-12-29 23:37:51</td>\n",
       "      <td>2</td>\n",
       "    </tr>\n",
       "    <tr>\n",
       "      <th>2512</th>\n",
       "      <td>20</td>\n",
       "      <td>1468</td>\n",
       "      <td>3</td>\n",
       "      <td>1009669071</td>\n",
       "      <td>45</td>\n",
       "      <td>2001-12-29 23:37:51</td>\n",
       "      <td>3</td>\n",
       "    </tr>\n",
       "    <tr>\n",
       "      <th>2513</th>\n",
       "      <td>20</td>\n",
       "      <td>3717</td>\n",
       "      <td>2</td>\n",
       "      <td>1009669071</td>\n",
       "      <td>45</td>\n",
       "      <td>2001-12-29 23:37:51</td>\n",
       "      <td>4</td>\n",
       "    </tr>\n",
       "    <tr>\n",
       "      <th>2517</th>\n",
       "      <td>20</td>\n",
       "      <td>2858</td>\n",
       "      <td>4</td>\n",
       "      <td>1009669071</td>\n",
       "      <td>45</td>\n",
       "      <td>2001-12-29 23:37:51</td>\n",
       "      <td>5</td>\n",
       "    </tr>\n",
       "    <tr>\n",
       "      <th>2504</th>\n",
       "      <td>20</td>\n",
       "      <td>2641</td>\n",
       "      <td>4</td>\n",
       "      <td>1009669115</td>\n",
       "      <td>45</td>\n",
       "      <td>2001-12-29 23:38:35</td>\n",
       "      <td>6</td>\n",
       "    </tr>\n",
       "    <tr>\n",
       "      <th>2510</th>\n",
       "      <td>20</td>\n",
       "      <td>1375</td>\n",
       "      <td>3</td>\n",
       "      <td>1009669115</td>\n",
       "      <td>45</td>\n",
       "      <td>2001-12-29 23:38:35</td>\n",
       "      <td>7</td>\n",
       "    </tr>\n",
       "    <tr>\n",
       "      <th>2520</th>\n",
       "      <td>20</td>\n",
       "      <td>3753</td>\n",
       "      <td>5</td>\n",
       "      <td>1009669116</td>\n",
       "      <td>45</td>\n",
       "      <td>2001-12-29 23:38:36</td>\n",
       "      <td>8</td>\n",
       "    </tr>\n",
       "    <tr>\n",
       "      <th>2507</th>\n",
       "      <td>20</td>\n",
       "      <td>3527</td>\n",
       "      <td>4</td>\n",
       "      <td>1009669181</td>\n",
       "      <td>45</td>\n",
       "      <td>2001-12-29 23:39:41</td>\n",
       "      <td>9</td>\n",
       "    </tr>\n",
       "  </tbody>\n",
       "</table>\n",
       "</div>"
      ],
      "text/plain": [
       "      UserId  ItemId  Rating        Time  SessionId            DateTime  \\\n",
       "2327      19     318       4   994556598         43 2001-07-08 01:43:18   \n",
       "2492      19    1234       5   994556636         43 2001-07-08 01:43:56   \n",
       "2503      20    1694       3  1009669071         45 2001-12-29 23:37:51   \n",
       "2512      20    1468       3  1009669071         45 2001-12-29 23:37:51   \n",
       "2513      20    3717       2  1009669071         45 2001-12-29 23:37:51   \n",
       "2517      20    2858       4  1009669071         45 2001-12-29 23:37:51   \n",
       "2504      20    2641       4  1009669115         45 2001-12-29 23:38:35   \n",
       "2510      20    1375       3  1009669115         45 2001-12-29 23:38:35   \n",
       "2520      20    3753       5  1009669116         45 2001-12-29 23:38:36   \n",
       "2507      20    3527       4  1009669181         45 2001-12-29 23:39:41   \n",
       "\n",
       "      item_idx  \n",
       "2327         0  \n",
       "2492         1  \n",
       "2503         2  \n",
       "2512         3  \n",
       "2513         4  \n",
       "2517         5  \n",
       "2504         6  \n",
       "2510         7  \n",
       "2520         8  \n",
       "2507         9  "
      ]
     },
     "execution_count": 35,
     "metadata": {},
     "output_type": "execute_result"
    }
   ],
   "source": [
    "train_dataset = SessionDataset(train)\n",
    "train_dataset.df.head(10)"
   ]
  },
  {
   "cell_type": "code",
   "execution_count": 36,
   "metadata": {},
   "outputs": [
    {
     "data": {
      "text/plain": [
       "array([    0,     2,    13, ..., 60915, 60925, 60946], dtype=int32)"
      ]
     },
     "execution_count": 36,
     "metadata": {},
     "output_type": "execute_result"
    }
   ],
   "source": [
    "train_dataset.click_offsets"
   ]
  },
  {
   "cell_type": "code",
   "execution_count": 37,
   "metadata": {},
   "outputs": [
    {
     "data": {
      "text/plain": [
       "array([   0,    1,    2, ..., 4212, 4213, 4214])"
      ]
     },
     "execution_count": 37,
     "metadata": {},
     "output_type": "execute_result"
    }
   ],
   "source": [
    "train_dataset.session_idx"
   ]
  },
  {
   "cell_type": "code",
   "execution_count": 38,
   "metadata": {},
   "outputs": [],
   "source": [
    "class SessionDataLoader:\n",
    "    \"\"\"Credit to yhs-968/pyGRU4REC.\"\"\"\n",
    "\n",
    "    def __init__(self, dataset: SessionDataset, batch_size=16):\n",
    "        self.dataset = dataset\n",
    "        self.batch_size = batch_size\n",
    "\n",
    "    def __iter__(self):\n",
    "        \"\"\" Returns the iterator for producing session-parallel training mini-batches.\n",
    "        Yields:\n",
    "            input (B,):  Item indices that will be encoded as one-hot vectors later.\n",
    "            target (B,): a Variable that stores the target item indices\n",
    "            masks: Numpy array indicating the positions of the sessions to be terminated\n",
    "        \"\"\"\n",
    "\n",
    "        start, end, mask, last_session, finished = self.initialize()  # initialize 메소드에서 확인해주세요.\n",
    "        \"\"\"\n",
    "        start : Index Where Session Start\n",
    "        end : Index Where Session End\n",
    "        mask : indicator for the sessions to be terminated\n",
    "        \"\"\"\n",
    "\n",
    "        while not finished:\n",
    "            min_len = (end - start).min() - 1  # Shortest Length Among Sessions\n",
    "            for i in range(min_len):\n",
    "                # Build inputs & targets\n",
    "                inp = self.dataset.df['item_idx'].values[start + i]\n",
    "                target = self.dataset.df['item_idx'].values[start + i + 1]\n",
    "                yield inp, target, mask\n",
    "\n",
    "            start, end, mask, last_session, finished = self.update_status(start, end, min_len, last_session, finished)\n",
    "\n",
    "    def initialize(self):\n",
    "        first_iters = np.arange(self.batch_size)    # 첫 배치에 사용할 세션 Index를 가져옵니다.\n",
    "        last_session = self.batch_size - 1    # 마지막으로 다루고 있는 세션 Index를 저장해둡니다.\n",
    "        start = self.dataset.click_offsets[self.dataset.session_idx[first_iters]]       # data 상에서 session이 시작된 위치를 가져옵니다.\n",
    "        end = self.dataset.click_offsets[self.dataset.session_idx[first_iters] + 1]  # session이 끝난 위치 바로 다음 위치를 가져옵니다.\n",
    "        mask = np.array([])   # session의 모든 아이템을 다 돌은 경우 mask에 추가해줄 것입니다.\n",
    "        finished = False         # data를 전부 돌았는지 기록하기 위한 변수입니다.\n",
    "        return start, end, mask, last_session, finished\n",
    "\n",
    "    def update_status(self, start: np.ndarray, end: np.ndarray, min_len: int, last_session: int, finished: bool):  \n",
    "        # 다음 배치 데이터를 생성하기 위해 상태를 update합니다.\n",
    "        \n",
    "        start += min_len   # __iter__에서 min_len 만큼 for문을 돌았으므로 start를 min_len 만큼 더해줍니다.\n",
    "        mask = np.arange(self.batch_size)[(end - start) == 1]  \n",
    "        # end는 다음 세션이 시작되는 위치인데 start와 한 칸 차이난다는 것은 session이 끝났다는 뜻입니다. mask에 기록해줍니다.\n",
    "\n",
    "        for i, idx in enumerate(mask, start=1):  # mask에 추가된 세션 개수만큼 새로운 세션을 돌것입니다.\n",
    "            new_session = last_session + i  \n",
    "            if new_session > self.dataset.session_idx[-1]:  # 만약 새로운 세션이 마지막 세션 index보다 크다면 모든 학습데이터를 돈 것입니다.\n",
    "                finished = True\n",
    "                break\n",
    "            # update the next starting/ending point\n",
    "            start[idx] = self.dataset.click_offsets[self.dataset.session_idx[new_session]]     # 종료된 세션 대신 새로운 세션의 시작점을 기록합니다.\n",
    "            end[idx] = self.dataset.click_offsets[self.dataset.session_idx[new_session] + 1]\n",
    "\n",
    "        last_session += len(mask)  # 마지막 세션의 위치를 기록해둡니다.\n",
    "        return start, end, mask, last_session, finished"
   ]
  },
  {
   "cell_type": "code",
   "execution_count": 39,
   "metadata": {},
   "outputs": [
    {
     "data": {
      "text/html": [
       "<div>\n",
       "<style scoped>\n",
       "    .dataframe tbody tr th:only-of-type {\n",
       "        vertical-align: middle;\n",
       "    }\n",
       "\n",
       "    .dataframe tbody tr th {\n",
       "        vertical-align: top;\n",
       "    }\n",
       "\n",
       "    .dataframe thead th {\n",
       "        text-align: right;\n",
       "    }\n",
       "</style>\n",
       "<table border=\"1\" class=\"dataframe\">\n",
       "  <thead>\n",
       "    <tr style=\"text-align: right;\">\n",
       "      <th></th>\n",
       "      <th>UserId</th>\n",
       "      <th>ItemId</th>\n",
       "      <th>Rating</th>\n",
       "      <th>Time</th>\n",
       "      <th>SessionId</th>\n",
       "      <th>DateTime</th>\n",
       "      <th>item_idx</th>\n",
       "    </tr>\n",
       "  </thead>\n",
       "  <tbody>\n",
       "    <tr>\n",
       "      <th>2327</th>\n",
       "      <td>19</td>\n",
       "      <td>318</td>\n",
       "      <td>4</td>\n",
       "      <td>994556598</td>\n",
       "      <td>43</td>\n",
       "      <td>2001-07-08 01:43:18</td>\n",
       "      <td>0</td>\n",
       "    </tr>\n",
       "    <tr>\n",
       "      <th>2492</th>\n",
       "      <td>19</td>\n",
       "      <td>1234</td>\n",
       "      <td>5</td>\n",
       "      <td>994556636</td>\n",
       "      <td>43</td>\n",
       "      <td>2001-07-08 01:43:56</td>\n",
       "      <td>1</td>\n",
       "    </tr>\n",
       "    <tr>\n",
       "      <th>2503</th>\n",
       "      <td>20</td>\n",
       "      <td>1694</td>\n",
       "      <td>3</td>\n",
       "      <td>1009669071</td>\n",
       "      <td>45</td>\n",
       "      <td>2001-12-29 23:37:51</td>\n",
       "      <td>2</td>\n",
       "    </tr>\n",
       "    <tr>\n",
       "      <th>2512</th>\n",
       "      <td>20</td>\n",
       "      <td>1468</td>\n",
       "      <td>3</td>\n",
       "      <td>1009669071</td>\n",
       "      <td>45</td>\n",
       "      <td>2001-12-29 23:37:51</td>\n",
       "      <td>3</td>\n",
       "    </tr>\n",
       "    <tr>\n",
       "      <th>2513</th>\n",
       "      <td>20</td>\n",
       "      <td>3717</td>\n",
       "      <td>2</td>\n",
       "      <td>1009669071</td>\n",
       "      <td>45</td>\n",
       "      <td>2001-12-29 23:37:51</td>\n",
       "      <td>4</td>\n",
       "    </tr>\n",
       "    <tr>\n",
       "      <th>2517</th>\n",
       "      <td>20</td>\n",
       "      <td>2858</td>\n",
       "      <td>4</td>\n",
       "      <td>1009669071</td>\n",
       "      <td>45</td>\n",
       "      <td>2001-12-29 23:37:51</td>\n",
       "      <td>5</td>\n",
       "    </tr>\n",
       "    <tr>\n",
       "      <th>2504</th>\n",
       "      <td>20</td>\n",
       "      <td>2641</td>\n",
       "      <td>4</td>\n",
       "      <td>1009669115</td>\n",
       "      <td>45</td>\n",
       "      <td>2001-12-29 23:38:35</td>\n",
       "      <td>6</td>\n",
       "    </tr>\n",
       "    <tr>\n",
       "      <th>2510</th>\n",
       "      <td>20</td>\n",
       "      <td>1375</td>\n",
       "      <td>3</td>\n",
       "      <td>1009669115</td>\n",
       "      <td>45</td>\n",
       "      <td>2001-12-29 23:38:35</td>\n",
       "      <td>7</td>\n",
       "    </tr>\n",
       "    <tr>\n",
       "      <th>2520</th>\n",
       "      <td>20</td>\n",
       "      <td>3753</td>\n",
       "      <td>5</td>\n",
       "      <td>1009669116</td>\n",
       "      <td>45</td>\n",
       "      <td>2001-12-29 23:38:36</td>\n",
       "      <td>8</td>\n",
       "    </tr>\n",
       "    <tr>\n",
       "      <th>2507</th>\n",
       "      <td>20</td>\n",
       "      <td>3527</td>\n",
       "      <td>4</td>\n",
       "      <td>1009669181</td>\n",
       "      <td>45</td>\n",
       "      <td>2001-12-29 23:39:41</td>\n",
       "      <td>9</td>\n",
       "    </tr>\n",
       "    <tr>\n",
       "      <th>2511</th>\n",
       "      <td>20</td>\n",
       "      <td>1527</td>\n",
       "      <td>5</td>\n",
       "      <td>1009669181</td>\n",
       "      <td>45</td>\n",
       "      <td>2001-12-29 23:39:41</td>\n",
       "      <td>10</td>\n",
       "    </tr>\n",
       "    <tr>\n",
       "      <th>2523</th>\n",
       "      <td>20</td>\n",
       "      <td>1240</td>\n",
       "      <td>4</td>\n",
       "      <td>1009669181</td>\n",
       "      <td>45</td>\n",
       "      <td>2001-12-29 23:39:41</td>\n",
       "      <td>11</td>\n",
       "    </tr>\n",
       "    <tr>\n",
       "      <th>2509</th>\n",
       "      <td>20</td>\n",
       "      <td>1371</td>\n",
       "      <td>4</td>\n",
       "      <td>1009669227</td>\n",
       "      <td>45</td>\n",
       "      <td>2001-12-29 23:40:27</td>\n",
       "      <td>12</td>\n",
       "    </tr>\n",
       "    <tr>\n",
       "      <th>2671</th>\n",
       "      <td>22</td>\n",
       "      <td>1884</td>\n",
       "      <td>4</td>\n",
       "      <td>991149055</td>\n",
       "      <td>51</td>\n",
       "      <td>2001-05-29 15:10:55</td>\n",
       "      <td>13</td>\n",
       "    </tr>\n",
       "    <tr>\n",
       "      <th>2776</th>\n",
       "      <td>22</td>\n",
       "      <td>2376</td>\n",
       "      <td>3</td>\n",
       "      <td>991149140</td>\n",
       "      <td>51</td>\n",
       "      <td>2001-05-29 15:12:20</td>\n",
       "      <td>14</td>\n",
       "    </tr>\n",
       "  </tbody>\n",
       "</table>\n",
       "</div>"
      ],
      "text/plain": [
       "      UserId  ItemId  Rating        Time  SessionId            DateTime  \\\n",
       "2327      19     318       4   994556598         43 2001-07-08 01:43:18   \n",
       "2492      19    1234       5   994556636         43 2001-07-08 01:43:56   \n",
       "2503      20    1694       3  1009669071         45 2001-12-29 23:37:51   \n",
       "2512      20    1468       3  1009669071         45 2001-12-29 23:37:51   \n",
       "2513      20    3717       2  1009669071         45 2001-12-29 23:37:51   \n",
       "2517      20    2858       4  1009669071         45 2001-12-29 23:37:51   \n",
       "2504      20    2641       4  1009669115         45 2001-12-29 23:38:35   \n",
       "2510      20    1375       3  1009669115         45 2001-12-29 23:38:35   \n",
       "2520      20    3753       5  1009669116         45 2001-12-29 23:38:36   \n",
       "2507      20    3527       4  1009669181         45 2001-12-29 23:39:41   \n",
       "2511      20    1527       5  1009669181         45 2001-12-29 23:39:41   \n",
       "2523      20    1240       4  1009669181         45 2001-12-29 23:39:41   \n",
       "2509      20    1371       4  1009669227         45 2001-12-29 23:40:27   \n",
       "2671      22    1884       4   991149055         51 2001-05-29 15:10:55   \n",
       "2776      22    2376       3   991149140         51 2001-05-29 15:12:20   \n",
       "\n",
       "      item_idx  \n",
       "2327         0  \n",
       "2492         1  \n",
       "2503         2  \n",
       "2512         3  \n",
       "2513         4  \n",
       "2517         5  \n",
       "2504         6  \n",
       "2510         7  \n",
       "2520         8  \n",
       "2507         9  \n",
       "2511        10  \n",
       "2523        11  \n",
       "2509        12  \n",
       "2671        13  \n",
       "2776        14  "
      ]
     },
     "execution_count": 39,
     "metadata": {},
     "output_type": "execute_result"
    }
   ],
   "source": [
    "train_data_loader = SessionDataLoader(train_dataset, batch_size=4)\n",
    "train_dataset.df.head(15)"
   ]
  },
  {
   "cell_type": "code",
   "execution_count": 40,
   "metadata": {},
   "outputs": [],
   "source": [
    "iter_ex = iter(train_data_loader)"
   ]
  },
  {
   "cell_type": "code",
   "execution_count": 41,
   "metadata": {},
   "outputs": [
    {
     "name": "stdout",
     "output_type": "stream",
     "text": [
      "Model Input Item Idx are : [ 0  2 13 23]\n",
      "Label Item Idx are :       [ 1  3 14 24]\n",
      "Previous Masked Input Idx are []\n"
     ]
    }
   ],
   "source": [
    "inputs, labels, mask =  next(iter_ex)\n",
    "print(f'Model Input Item Idx are : {inputs}')\n",
    "print(f'Label Item Idx are : {\"\":5} {labels}')\n",
    "print(f'Previous Masked Input Idx are {mask}')"
   ]
  },
  {
   "cell_type": "markdown",
   "metadata": {},
   "source": [
    "## Step 3. 모델 구성\n",
    "\n",
    "이 부분도 실습코드 내역을 참고하여 다양하게 모델 구조를 시도해볼 수 있습니다.\n",
    "\n"
   ]
  },
  {
   "cell_type": "code",
   "execution_count": 48,
   "metadata": {},
   "outputs": [],
   "source": [
    "# recall_k가 없어서 진행이 안되므로 추가\n",
    "def mrr_k(pred, truth: int, k: int):\n",
    "    indexing = np.where(pred[:k] == truth)[0]\n",
    "    if len(indexing) > 0:\n",
    "        return 1 / (indexing[0] + 1)\n",
    "    else:\n",
    "        return 0\n",
    "\n",
    "def recall_k(pred, truth: int, k: int) -> int:\n",
    "    answer = truth in pred[:k]\n",
    "    return int(answer)"
   ]
  },
  {
   "cell_type": "code",
   "execution_count": 49,
   "metadata": {},
   "outputs": [],
   "source": [
    "import numpy as np\n",
    "import tensorflow as tf\n",
    "from tensorflow.keras.layers import Input, Dense, Dropout, GRU\n",
    "from tensorflow.keras.losses import categorical_crossentropy\n",
    "from tensorflow.keras.models import Model\n",
    "from tensorflow.keras.optimizers import Adam\n",
    "from tensorflow.keras.utils import to_categorical\n",
    "from tqdm import tqdm"
   ]
  },
  {
   "cell_type": "code",
   "execution_count": 50,
   "metadata": {},
   "outputs": [],
   "source": [
    "def create_model(args):\n",
    "    inputs = Input(batch_shape=(args.batch_size, 1, args.num_items))\n",
    "    gru, _ = GRU(args.hsz, stateful=True, return_state=True, name='GRU')(inputs)\n",
    "    dropout = Dropout(args.drop_rate)(gru)\n",
    "    predictions = Dense(args.num_items, activation='softmax')(dropout)\n",
    "    model = Model(inputs=inputs, outputs=[predictions])\n",
    "    model.compile(loss=categorical_crossentropy, optimizer=Adam(args.lr), metrics=['accuracy'])\n",
    "    model.summary()\n",
    "    return model"
   ]
  },
  {
   "cell_type": "code",
   "execution_count": 51,
   "metadata": {},
   "outputs": [],
   "source": [
    "class Args:\n",
    "    def __init__(self, tr, val, test, batch_size, hsz, drop_rate, lr, epochs, k):\n",
    "        self.tr = tr\n",
    "        self.val = val\n",
    "        self.test = test\n",
    "        self.num_items = tr['ItemId'].nunique()\n",
    "        self.num_sessions = tr['SessionId'].nunique()\n",
    "        self.batch_size = batch_size\n",
    "        self.hsz = hsz\n",
    "        self.drop_rate = drop_rate\n",
    "        self.lr = lr\n",
    "        self.epochs = epochs\n",
    "        self.k = k\n",
    "\n",
    "args = Args(train, valid, test, batch_size=32, hsz=50, drop_rate=0.1, lr=0.001, epochs=20, k=20)"
   ]
  },
  {
   "cell_type": "code",
   "execution_count": 52,
   "metadata": {},
   "outputs": [
    {
     "name": "stdout",
     "output_type": "stream",
     "text": [
      "Model: \"model_1\"\n",
      "_________________________________________________________________\n",
      "Layer (type)                 Output Shape              Param #   \n",
      "=================================================================\n",
      "input_2 (InputLayer)         [(32, 1, 3271)]           0         \n",
      "_________________________________________________________________\n",
      "GRU (GRU)                    [(32, 50), (32, 50)]      498450    \n",
      "_________________________________________________________________\n",
      "dropout_1 (Dropout)          (32, 50)                  0         \n",
      "_________________________________________________________________\n",
      "dense_1 (Dense)              (32, 3271)                166821    \n",
      "=================================================================\n",
      "Total params: 665,271\n",
      "Trainable params: 665,271\n",
      "Non-trainable params: 0\n",
      "_________________________________________________________________\n"
     ]
    }
   ],
   "source": [
    "model = create_model(args)"
   ]
  },
  {
   "cell_type": "markdown",
   "metadata": {},
   "source": [
    "## Step 4. 모델 학습\n",
    "\n",
    "다양한 하이퍼파라미터를 변경해 보며 검증해 보도록 합니다. 실습코드에 언급되었던 Recall, MRR 등의 개념들도 함께 관리될 수 있도록 합니다.\n",
    "\n"
   ]
  },
  {
   "cell_type": "code",
   "execution_count": 53,
   "metadata": {},
   "outputs": [],
   "source": [
    "# train 셋으로 학습하면서 valid 셋으로 검증합니다.\n",
    "def train_model(model, args):\n",
    "    train_dataset = SessionDataset(args.tr)\n",
    "    train_loader = SessionDataLoader(train_dataset, batch_size=args.batch_size)\n",
    "\n",
    "    for epoch in range(1, args.epochs + 1):\n",
    "        total_step = len(args.tr) - args.tr['SessionId'].nunique()\n",
    "        tr_loader = tqdm(train_loader, total=total_step // args.batch_size, desc='Train', mininterval=1)\n",
    "        for feat, target, mask in tr_loader:\n",
    "            reset_hidden_states(model, mask)  # 종료된 session은 hidden_state를 초기화합니다. 아래 메서드에서 확인해주세요.\n",
    "\n",
    "            input_ohe = to_categorical(feat, num_classes=args.num_items)\n",
    "            input_ohe = np.expand_dims(input_ohe, axis=1)\n",
    "            target_ohe = to_categorical(target, num_classes=args.num_items)\n",
    "\n",
    "            result = model.train_on_batch(input_ohe, target_ohe)\n",
    "            tr_loader.set_postfix(train_loss=result[0], accuracy = result[1])\n",
    "\n",
    "        val_recall, val_mrr = get_metrics(args.val, model, args, args.k)  # valid set에 대해 검증합니다.\n",
    "\n",
    "        print(f\"\\t - Recall@{args.k} epoch {epoch}: {val_recall:3f}\")\n",
    "        print(f\"\\t - MRR@{args.k}    epoch {epoch}: {val_mrr:3f}\\n\")\n",
    "\n",
    "\n",
    "def reset_hidden_states(model, mask):\n",
    "    gru_layer = model.get_layer(name='GRU')  # model에서 gru layer를 가져옵니다.\n",
    "    hidden_states = gru_layer.states[0].numpy()  # gru_layer의 parameter를 가져옵니다.\n",
    "    for elt in mask:  # mask된 인덱스 즉, 종료된 세션의 인덱스를 돌면서\n",
    "        hidden_states[elt, :] = 0  # parameter를 초기화 합니다.\n",
    "    gru_layer.reset_states(states=hidden_states)\n",
    "\n",
    "\n",
    "def get_metrics(data, model, args, k: int):  # valid셋과 test셋을 평가하는 코드입니다. \n",
    "                                             # train과 거의 같지만 mrr, recall을 구하는 라인이 있습니다.\n",
    "    dataset = SessionDataset(data)\n",
    "    loader = SessionDataLoader(dataset, batch_size=args.batch_size)\n",
    "    recall_list, mrr_list = [], []\n",
    "\n",
    "    total_step = len(data) - data['SessionId'].nunique()\n",
    "    for inputs, label, mask in tqdm(loader, total=total_step // args.batch_size, desc='Evaluation', mininterval=1):\n",
    "        reset_hidden_states(model, mask)\n",
    "        input_ohe = to_categorical(inputs, num_classes=args.num_items)\n",
    "        input_ohe = np.expand_dims(input_ohe, axis=1)\n",
    "\n",
    "        pred = model.predict(input_ohe, batch_size=args.batch_size)\n",
    "        pred_arg = tf.argsort(pred, direction='DESCENDING')  # softmax 값이 큰 순서대로 sorting 합니다.\n",
    "\n",
    "        length = len(inputs)\n",
    "        recall_list.extend([recall_k(pred_arg[i], label[i], k) for i in range(length)])\n",
    "        mrr_list.extend([mrr_k(pred_arg[i], label[i], k) for i in range(length)])\n",
    "\n",
    "    recall, mrr = np.mean(recall_list), np.mean(mrr_list)\n",
    "    return recall, mrr"
   ]
  },
  {
   "cell_type": "code",
   "execution_count": 54,
   "metadata": {
    "scrolled": true
   },
   "outputs": [
    {
     "name": "stderr",
     "output_type": "stream",
     "text": [
      "Train:  98%|█████████▊| 1734/1772 [00:18<00:00, 91.90it/s, accuracy=0, train_loss=7.72]     \n",
      "Evaluation:  65%|██████▌   | 71/109 [00:16<00:08,  4.36it/s]\n",
      "Train:   0%|          | 0/1772 [00:00<?, ?it/s, accuracy=0, train_loss=7.4]      "
     ]
    },
    {
     "name": "stdout",
     "output_type": "stream",
     "text": [
      "\t - Recall@20 epoch 1: 0.040053\n",
      "\t - MRR@20    epoch 1: 0.009778\n",
      "\n"
     ]
    },
    {
     "name": "stderr",
     "output_type": "stream",
     "text": [
      "Train:  98%|█████████▊| 1734/1772 [00:17<00:00, 101.19it/s, accuracy=0, train_loss=7.44]     \n",
      "Evaluation:  65%|██████▌   | 71/109 [00:15<00:08,  4.50it/s]\n",
      "Train:   0%|          | 0/1772 [00:00<?, ?it/s, accuracy=0, train_loss=7.12]     "
     ]
    },
    {
     "name": "stdout",
     "output_type": "stream",
     "text": [
      "\t - Recall@20 epoch 2: 0.054577\n",
      "\t - MRR@20    epoch 2: 0.012829\n",
      "\n"
     ]
    },
    {
     "name": "stderr",
     "output_type": "stream",
     "text": [
      "Train:  98%|█████████▊| 1734/1772 [00:16<00:00, 102.11it/s, accuracy=0, train_loss=7.24]     \n",
      "Evaluation:  65%|██████▌   | 71/109 [00:15<00:08,  4.58it/s]\n",
      "Train:   0%|          | 0/1772 [00:00<?, ?it/s, accuracy=0.0312, train_loss=6.87]"
     ]
    },
    {
     "name": "stdout",
     "output_type": "stream",
     "text": [
      "\t - Recall@20 epoch 3: 0.075264\n",
      "\t - MRR@20    epoch 3: 0.017623\n",
      "\n"
     ]
    },
    {
     "name": "stderr",
     "output_type": "stream",
     "text": [
      "Train:  98%|█████████▊| 1734/1772 [00:17<00:00, 101.85it/s, accuracy=0, train_loss=7.03]     \n",
      "Evaluation:  65%|██████▌   | 71/109 [00:15<00:08,  4.58it/s]\n",
      "Train:   0%|          | 0/1772 [00:00<?, ?it/s, accuracy=0.0938, train_loss=6.55]"
     ]
    },
    {
     "name": "stdout",
     "output_type": "stream",
     "text": [
      "\t - Recall@20 epoch 4: 0.088468\n",
      "\t - MRR@20    epoch 4: 0.021377\n",
      "\n"
     ]
    },
    {
     "name": "stderr",
     "output_type": "stream",
     "text": [
      "Train:  98%|█████████▊| 1734/1772 [00:16<00:00, 102.12it/s, accuracy=0, train_loss=6.91]     \n",
      "Evaluation:  65%|██████▌   | 71/109 [00:15<00:08,  4.67it/s]\n",
      "Train:   0%|          | 0/1772 [00:00<?, ?it/s, accuracy=0.0625, train_loss=6.32]"
     ]
    },
    {
     "name": "stdout",
     "output_type": "stream",
     "text": [
      "\t - Recall@20 epoch 5: 0.102993\n",
      "\t - MRR@20    epoch 5: 0.028080\n",
      "\n"
     ]
    },
    {
     "name": "stderr",
     "output_type": "stream",
     "text": [
      "Train:  98%|█████████▊| 1734/1772 [00:16<00:00, 102.92it/s, accuracy=0.0312, train_loss=6.63]\n",
      "Evaluation:  65%|██████▌   | 71/109 [00:15<00:08,  4.69it/s]\n",
      "Train:   0%|          | 0/1772 [00:00<?, ?it/s, accuracy=0, train_loss=6.17]     "
     ]
    },
    {
     "name": "stdout",
     "output_type": "stream",
     "text": [
      "\t - Recall@20 epoch 6: 0.123680\n",
      "\t - MRR@20    epoch 6: 0.033305\n",
      "\n"
     ]
    },
    {
     "name": "stderr",
     "output_type": "stream",
     "text": [
      "Train:  98%|█████████▊| 1734/1772 [00:16<00:00, 104.39it/s, accuracy=0, train_loss=6.47]     \n",
      "Evaluation:  65%|██████▌   | 71/109 [00:14<00:07,  4.82it/s]\n",
      "Train:   0%|          | 0/1772 [00:00<?, ?it/s, accuracy=0.125, train_loss=5.85] "
     ]
    },
    {
     "name": "stdout",
     "output_type": "stream",
     "text": [
      "\t - Recall@20 epoch 7: 0.133803\n",
      "\t - MRR@20    epoch 7: 0.040652\n",
      "\n"
     ]
    },
    {
     "name": "stderr",
     "output_type": "stream",
     "text": [
      "Train:  98%|█████████▊| 1734/1772 [00:16<00:00, 104.97it/s, accuracy=0.0312, train_loss=6.23]\n",
      "Evaluation:  65%|██████▌   | 71/109 [00:14<00:07,  4.86it/s]\n",
      "Train:   0%|          | 0/1772 [00:00<?, ?it/s, accuracy=0.125, train_loss=5.57] "
     ]
    },
    {
     "name": "stdout",
     "output_type": "stream",
     "text": [
      "\t - Recall@20 epoch 8: 0.143486\n",
      "\t - MRR@20    epoch 8: 0.043537\n",
      "\n"
     ]
    },
    {
     "name": "stderr",
     "output_type": "stream",
     "text": [
      "Train:  98%|█████████▊| 1734/1772 [00:16<00:00, 103.94it/s, accuracy=0, train_loss=6.18]     \n",
      "Evaluation:  65%|██████▌   | 71/109 [00:14<00:07,  4.84it/s]\n",
      "Train:   0%|          | 0/1772 [00:00<?, ?it/s, accuracy=0.0625, train_loss=5.48]"
     ]
    },
    {
     "name": "stdout",
     "output_type": "stream",
     "text": [
      "\t - Recall@20 epoch 9: 0.149208\n",
      "\t - MRR@20    epoch 9: 0.044701\n",
      "\n"
     ]
    },
    {
     "name": "stderr",
     "output_type": "stream",
     "text": [
      "Train:  98%|█████████▊| 1734/1772 [00:16<00:00, 103.83it/s, accuracy=0, train_loss=6.06]     \n",
      "Evaluation:  65%|██████▌   | 71/109 [00:14<00:07,  4.81it/s]\n",
      "Train:   0%|          | 0/1772 [00:00<?, ?it/s, accuracy=0.125, train_loss=5.45] "
     ]
    },
    {
     "name": "stdout",
     "output_type": "stream",
     "text": [
      "\t - Recall@20 epoch 10: 0.143926\n",
      "\t - MRR@20    epoch 10: 0.044744\n",
      "\n"
     ]
    },
    {
     "name": "stderr",
     "output_type": "stream",
     "text": [
      "Train:  98%|█████████▊| 1734/1772 [00:16<00:00, 104.22it/s, accuracy=0.0312, train_loss=5.87]\n",
      "Evaluation:  65%|██████▌   | 71/109 [00:14<00:07,  4.78it/s]\n",
      "Train:   0%|          | 0/1772 [00:00<?, ?it/s, accuracy=0.125, train_loss=5.34] "
     ]
    },
    {
     "name": "stdout",
     "output_type": "stream",
     "text": [
      "\t - Recall@20 epoch 11: 0.145246\n",
      "\t - MRR@20    epoch 11: 0.045427\n",
      "\n"
     ]
    },
    {
     "name": "stderr",
     "output_type": "stream",
     "text": [
      "Train:  98%|█████████▊| 1734/1772 [00:16<00:00, 102.23it/s, accuracy=0.0625, train_loss=5.63]\n",
      "Evaluation:  65%|██████▌   | 71/109 [00:14<00:07,  4.81it/s]\n",
      "Train:   0%|          | 0/1772 [00:00<?, ?it/s, accuracy=0.0938, train_loss=5.1] "
     ]
    },
    {
     "name": "stdout",
     "output_type": "stream",
     "text": [
      "\t - Recall@20 epoch 12: 0.142606\n",
      "\t - MRR@20    epoch 12: 0.045558\n",
      "\n"
     ]
    },
    {
     "name": "stderr",
     "output_type": "stream",
     "text": [
      "Train:  98%|█████████▊| 1734/1772 [00:16<00:00, 103.30it/s, accuracy=0.125, train_loss=5.43] \n",
      "Evaluation:  65%|██████▌   | 71/109 [00:14<00:07,  4.84it/s]\n",
      "Train:   0%|          | 0/1772 [00:00<?, ?it/s, accuracy=0.0625, train_loss=4.88]"
     ]
    },
    {
     "name": "stdout",
     "output_type": "stream",
     "text": [
      "\t - Recall@20 epoch 13: 0.143486\n",
      "\t - MRR@20    epoch 13: 0.045839\n",
      "\n"
     ]
    },
    {
     "name": "stderr",
     "output_type": "stream",
     "text": [
      "Train:  98%|█████████▊| 1734/1772 [00:16<00:00, 103.16it/s, accuracy=0.0625, train_loss=5.42]\n",
      "Evaluation:  65%|██████▌   | 71/109 [00:14<00:07,  4.82it/s]\n",
      "Train:   0%|          | 0/1772 [00:00<?, ?it/s, accuracy=0.0625, train_loss=5.01]"
     ]
    },
    {
     "name": "stdout",
     "output_type": "stream",
     "text": [
      "\t - Recall@20 epoch 14: 0.137324\n",
      "\t - MRR@20    epoch 14: 0.045090\n",
      "\n"
     ]
    },
    {
     "name": "stderr",
     "output_type": "stream",
     "text": [
      "Train:  98%|█████████▊| 1734/1772 [00:16<00:00, 104.51it/s, accuracy=0.125, train_loss=5.27] \n",
      "Evaluation:  65%|██████▌   | 71/109 [00:14<00:07,  4.83it/s]\n",
      "Train:   0%|          | 0/1772 [00:00<?, ?it/s, accuracy=0.125, train_loss=4.92] "
     ]
    },
    {
     "name": "stdout",
     "output_type": "stream",
     "text": [
      "\t - Recall@20 epoch 15: 0.136444\n",
      "\t - MRR@20    epoch 15: 0.044829\n",
      "\n"
     ]
    },
    {
     "name": "stderr",
     "output_type": "stream",
     "text": [
      "Train:  98%|█████████▊| 1734/1772 [00:16<00:00, 103.74it/s, accuracy=0.0312, train_loss=4.97]\n",
      "Evaluation:  65%|██████▌   | 71/109 [00:14<00:07,  4.81it/s]\n",
      "Train:   0%|          | 0/1772 [00:00<?, ?it/s, accuracy=0.0312, train_loss=4.85]"
     ]
    },
    {
     "name": "stdout",
     "output_type": "stream",
     "text": [
      "\t - Recall@20 epoch 16: 0.133363\n",
      "\t - MRR@20    epoch 16: 0.044401\n",
      "\n"
     ]
    },
    {
     "name": "stderr",
     "output_type": "stream",
     "text": [
      "Train:  98%|█████████▊| 1734/1772 [00:16<00:00, 103.76it/s, accuracy=0.0938, train_loss=4.91]\n",
      "Evaluation:  65%|██████▌   | 71/109 [00:14<00:07,  4.80it/s]\n",
      "Train:   0%|          | 0/1772 [00:00<?, ?it/s, accuracy=0.0938, train_loss=4.69]"
     ]
    },
    {
     "name": "stdout",
     "output_type": "stream",
     "text": [
      "\t - Recall@20 epoch 17: 0.132042\n",
      "\t - MRR@20    epoch 17: 0.044344\n",
      "\n"
     ]
    },
    {
     "name": "stderr",
     "output_type": "stream",
     "text": [
      "Train:  98%|█████████▊| 1734/1772 [00:16<00:00, 104.83it/s, accuracy=0.188, train_loss=4.64] \n",
      "Evaluation:  65%|██████▌   | 71/109 [00:14<00:07,  4.76it/s]\n",
      "Train:   0%|          | 0/1772 [00:00<?, ?it/s, accuracy=0.125, train_loss=4.63] "
     ]
    },
    {
     "name": "stdout",
     "output_type": "stream",
     "text": [
      "\t - Recall@20 epoch 18: 0.130722\n",
      "\t - MRR@20    epoch 18: 0.044026\n",
      "\n"
     ]
    },
    {
     "name": "stderr",
     "output_type": "stream",
     "text": [
      "Train:  98%|█████████▊| 1734/1772 [00:16<00:00, 105.38it/s, accuracy=0.156, train_loss=4.63] \n",
      "Evaluation:  65%|██████▌   | 71/109 [00:14<00:07,  4.82it/s]\n",
      "Train:   0%|          | 0/1772 [00:00<?, ?it/s, accuracy=0.156, train_loss=4.59] "
     ]
    },
    {
     "name": "stdout",
     "output_type": "stream",
     "text": [
      "\t - Recall@20 epoch 19: 0.132482\n",
      "\t - MRR@20    epoch 19: 0.044878\n",
      "\n"
     ]
    },
    {
     "name": "stderr",
     "output_type": "stream",
     "text": [
      "Train:  98%|█████████▊| 1734/1772 [00:16<00:00, 104.90it/s, accuracy=0.125, train_loss=4.52] \n",
      "Evaluation:  65%|██████▌   | 71/109 [00:14<00:07,  4.81it/s]"
     ]
    },
    {
     "name": "stdout",
     "output_type": "stream",
     "text": [
      "\t - Recall@20 epoch 20: 0.128521\n",
      "\t - MRR@20    epoch 20: 0.044426\n",
      "\n"
     ]
    },
    {
     "name": "stderr",
     "output_type": "stream",
     "text": [
      "\n"
     ]
    }
   ],
   "source": [
    "train_model(model, args)"
   ]
  },
  {
   "cell_type": "markdown",
   "metadata": {},
   "source": [
    "## Step 5. 모델 테스트\n",
    "\n",
    "미리 구성한 테스트셋을 바탕으로 Recall, MRR 을 확인해 봅니다."
   ]
  },
  {
   "cell_type": "code",
   "execution_count": 55,
   "metadata": {},
   "outputs": [],
   "source": [
    "def mrr_k(pred, truth: int, k: int):\n",
    "    indexing = np.where(pred[:k] == truth)[0]\n",
    "    if len(indexing) > 0:\n",
    "        return 1 / (indexing[0] + 1)\n",
    "    else:\n",
    "        return 0\n",
    "\n",
    "\n",
    "def recall_k(pred, truth: int, k: int) -> int:\n",
    "    answer = truth in pred[:k]\n",
    "    return int(answer)"
   ]
  },
  {
   "cell_type": "code",
   "execution_count": 56,
   "metadata": {},
   "outputs": [
    {
     "name": "stderr",
     "output_type": "stream",
     "text": [
      "Evaluation:  15%|█▌        | 2/13 [00:00<00:02,  4.72it/s]"
     ]
    },
    {
     "name": "stdout",
     "output_type": "stream",
     "text": [
      "\t - Recall@20: 0.109375\n",
      "\t - MRR@20: 0.028760\n",
      "\n"
     ]
    },
    {
     "name": "stderr",
     "output_type": "stream",
     "text": [
      "\n"
     ]
    }
   ],
   "source": [
    "def test_model(model, args, test):\n",
    "    test_recall, test_mrr = get_metrics(test, model, args, 20)\n",
    "    print(f\"\\t - Recall@{args.k}: {test_recall:3f}\")\n",
    "    print(f\"\\t - MRR@{args.k}: {test_mrr:3f}\\n\")\n",
    "\n",
    "test_model(model, args, test)"
   ]
  },
  {
   "cell_type": "code",
   "execution_count": null,
   "metadata": {},
   "outputs": [],
   "source": []
  }
 ],
 "metadata": {
  "kernelspec": {
   "display_name": "Python 3",
   "language": "python",
   "name": "python3"
  },
  "language_info": {
   "codemirror_mode": {
    "name": "ipython",
    "version": 3
   },
   "file_extension": ".py",
   "mimetype": "text/x-python",
   "name": "python",
   "nbconvert_exporter": "python",
   "pygments_lexer": "ipython3",
   "version": "3.7.9"
  }
 },
 "nbformat": 4,
 "nbformat_minor": 4
}
